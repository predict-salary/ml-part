{
 "cells": [
  {
   "cell_type": "code",
   "execution_count": 1,
   "id": "35d542aa-523f-426f-89bb-d637e846b7e2",
   "metadata": {},
   "outputs": [],
   "source": [
    "import gc\n",
    "import os\n",
    "import pickle\n",
    "from typing import List, Dict, Optional, Literal, Tuple\n",
    "from dataclasses import dataclass\n",
    "\n",
    "import pandas as pd\n",
    "import numpy as np\n",
    "\n",
    "import plotly.express as px\n",
    "from tqdm.notebook import tqdm, trange\n",
    "\n",
    "from sklearn.model_selection import train_test_split, StratifiedKFold\n",
    "from sklearn.preprocessing import OneHotEncoder\n",
    "from sklearn.metrics import f1_score, precision_score, recall_score\n",
    "import warnings\n",
    "import sklearn.exceptions\n",
    "warnings.filterwarnings(\"ignore\", category=sklearn.exceptions.UndefinedMetricWarning)\n",
    "warnings.filterwarnings(\"ignore\")\n",
    "\n",
    "import torch\n",
    "from torch import nn\n",
    "from torch.utils.data import Dataset, DataLoader\n",
    "from transformers import AutoTokenizer, AutoModel\n",
    "\n",
    "from pytorch_tabular.tabular_datamodule import TabularDataset\n",
    "from pytorch_tabular import TabularModel\n",
    "from pytorch_tabular.models import FTTransformerConfig\n",
    "from pytorch_tabular.config import (\n",
    "    DataConfig,\n",
    "    OptimizerConfig,\n",
    "    TrainerConfig,\n",
    "    ExperimentConfig,\n",
    ")\n",
    "from pytorch_tabular.models.common.heads import LinearHeadConfig\n",
    "from pytorch_tabular.utils import get_balanced_sampler, get_class_weighted_cross_entropy"
   ]
  },
  {
   "cell_type": "code",
   "execution_count": 2,
   "id": "ebb563eb-c74c-4ba8-a206-1862372d8a54",
   "metadata": {},
   "outputs": [],
   "source": [
    "random_state = 47\n",
    "\n",
    "torch.manual_seed(random_state)\n",
    "np.random.seed(random_state)\n",
    "torch.cuda.manual_seed(random_state)\n",
    "\n",
    "device = torch.device(\"cuda:0\" if torch.cuda.is_available() else \"cpu\")\n",
    "model_name = \"cointegrated/rubert-tiny2\"\n",
    "batch_size = 64 * 2"
   ]
  },
  {
   "cell_type": "markdown",
   "id": "7a82b45f-055c-46e2-97a6-3690a365654a",
   "metadata": {
    "jp-MarkdownHeadingCollapsed": true
   },
   "source": [
    "# Read data"
   ]
  },
  {
   "cell_type": "code",
   "execution_count": 3,
   "id": "01184023-8b1c-4b29-a76d-93cadba0df1a",
   "metadata": {},
   "outputs": [],
   "source": [
    "df = pd.read_csv(\"data_with_text.csv\")"
   ]
  },
  {
   "cell_type": "code",
   "execution_count": 5,
   "id": "781e4e83-fbc6-496e-ac69-3f38859f8325",
   "metadata": {},
   "outputs": [],
   "source": [
    "df[\"search_by_name\"] = df[\"search_by_name\"].apply(lambda x: x.split(\"_\")[0])"
   ]
  },
  {
   "cell_type": "code",
   "execution_count": 6,
   "id": "65ea30b7-1721-4eb3-b880-65d50a36a0f1",
   "metadata": {},
   "outputs": [
    {
     "data": {
      "text/html": [
       "<div>\n",
       "<style scoped>\n",
       "    .dataframe tbody tr th:only-of-type {\n",
       "        vertical-align: middle;\n",
       "    }\n",
       "\n",
       "    .dataframe tbody tr th {\n",
       "        vertical-align: top;\n",
       "    }\n",
       "\n",
       "    .dataframe thead th {\n",
       "        text-align: right;\n",
       "    }\n",
       "</style>\n",
       "<table border=\"1\" class=\"dataframe\">\n",
       "  <thead>\n",
       "    <tr style=\"text-align: right;\">\n",
       "      <th></th>\n",
       "      <th>vacancy_name</th>\n",
       "      <th>vacancy_type</th>\n",
       "      <th>vacancy_experience</th>\n",
       "      <th>vacancy_id</th>\n",
       "      <th>created_date</th>\n",
       "      <th>salary_gross</th>\n",
       "      <th>salary_to</th>\n",
       "      <th>salary_from</th>\n",
       "      <th>salary_currency</th>\n",
       "      <th>company_name</th>\n",
       "      <th>...</th>\n",
       "      <th>created_quarter</th>\n",
       "      <th>created_month</th>\n",
       "      <th>vacancy_name_score</th>\n",
       "      <th>vacancy_name_len</th>\n",
       "      <th>salary_from_rub_rounded</th>\n",
       "      <th>salary_to_rub_rounded</th>\n",
       "      <th>target_rounded</th>\n",
       "      <th>target</th>\n",
       "      <th>vacancy_description</th>\n",
       "      <th>vacancy_keys</th>\n",
       "    </tr>\n",
       "  </thead>\n",
       "  <tbody>\n",
       "    <tr>\n",
       "      <th>0</th>\n",
       "      <td>Frontend-разработчик (Angular, TS)</td>\n",
       "      <td>open</td>\n",
       "      <td>between1And3</td>\n",
       "      <td>92688571</td>\n",
       "      <td>2024-02-05 12:10:09.484000+03:00</td>\n",
       "      <td>True</td>\n",
       "      <td>240000.0</td>\n",
       "      <td>180000.0</td>\n",
       "      <td>RUR</td>\n",
       "      <td>Timetta</td>\n",
       "      <td>...</td>\n",
       "      <td>1</td>\n",
       "      <td>2</td>\n",
       "      <td>198.5</td>\n",
       "      <td>34</td>\n",
       "      <td>180000</td>\n",
       "      <td>240000</td>\n",
       "      <td>210000.0</td>\n",
       "      <td>1</td>\n",
       "      <td>Требуемый опыт работы: от 3 лет.Уровень: Middl...</td>\n",
       "      <td>HTML5, Bootstrap, TypeScript, CSS3, REST API, ...</td>\n",
       "    </tr>\n",
       "    <tr>\n",
       "      <th>1</th>\n",
       "      <td>Младший бэкенд-разработчик</td>\n",
       "      <td>open</td>\n",
       "      <td>noExperience</td>\n",
       "      <td>92755320</td>\n",
       "      <td>2024-02-06 11:55:19.754000+03:00</td>\n",
       "      <td>False</td>\n",
       "      <td>70000.0</td>\n",
       "      <td>50000.0</td>\n",
       "      <td>RUR</td>\n",
       "      <td>Евромобайл</td>\n",
       "      <td>...</td>\n",
       "      <td>1</td>\n",
       "      <td>2</td>\n",
       "      <td>22.0</td>\n",
       "      <td>26</td>\n",
       "      <td>50000</td>\n",
       "      <td>70000</td>\n",
       "      <td>60000.0</td>\n",
       "      <td>0</td>\n",
       "      <td>Требуется младший бэкэнд разработчик (Back-end...</td>\n",
       "      <td>Git, Базы данных, C#, MS SQL</td>\n",
       "    </tr>\n",
       "  </tbody>\n",
       "</table>\n",
       "<p>2 rows × 30 columns</p>\n",
       "</div>"
      ],
      "text/plain": [
       "                         vacancy_name vacancy_type vacancy_experience  \\\n",
       "0  Frontend-разработчик (Angular, TS)         open       between1And3   \n",
       "1          Младший бэкенд-разработчик         open       noExperience   \n",
       "\n",
       "   vacancy_id                      created_date  salary_gross  salary_to  \\\n",
       "0    92688571  2024-02-05 12:10:09.484000+03:00          True   240000.0   \n",
       "1    92755320  2024-02-06 11:55:19.754000+03:00         False    70000.0   \n",
       "\n",
       "   salary_from salary_currency company_name  ...  created_quarter  \\\n",
       "0     180000.0             RUR      Timetta  ...                1   \n",
       "1      50000.0             RUR   Евромобайл  ...                1   \n",
       "\n",
       "  created_month  vacancy_name_score vacancy_name_len salary_from_rub_rounded  \\\n",
       "0             2               198.5               34                  180000   \n",
       "1             2                22.0               26                   50000   \n",
       "\n",
       "  salary_to_rub_rounded target_rounded  target  \\\n",
       "0                240000       210000.0       1   \n",
       "1                 70000        60000.0       0   \n",
       "\n",
       "                                 vacancy_description  \\\n",
       "0  Требуемый опыт работы: от 3 лет.Уровень: Middl...   \n",
       "1  Требуется младший бэкэнд разработчик (Back-end...   \n",
       "\n",
       "                                        vacancy_keys  \n",
       "0  HTML5, Bootstrap, TypeScript, CSS3, REST API, ...  \n",
       "1                       Git, Базы данных, C#, MS SQL  \n",
       "\n",
       "[2 rows x 30 columns]"
      ]
     },
     "execution_count": 6,
     "metadata": {},
     "output_type": "execute_result"
    }
   ],
   "source": [
    "df.head(2)"
   ]
  },
  {
   "cell_type": "markdown",
   "id": "79be1bc4-c3e6-43cc-99de-15f6bc9c318e",
   "metadata": {},
   "source": [
    "# Custom dataset"
   ]
  },
  {
   "cell_type": "code",
   "execution_count": 4,
   "id": "d6ce2571-b2d6-45a3-b1ed-0ff650e824e6",
   "metadata": {},
   "outputs": [],
   "source": [
    "class CustomVacancyDataset(Dataset):\n",
    "    def __init__(\n",
    "        self,\n",
    "        data: pd.DataFrame,\n",
    "        tokenizer,\n",
    "        device: torch.device,\n",
    "        text: str,\n",
    "        target: str,\n",
    "        chunk_size: int = 512,\n",
    "        mode: Optional[Literal[\"train\", \"valid\", \"test\"]] = None\n",
    "    ) -> None:\n",
    "        super().__init__()\n",
    "        self.data = data\n",
    "        self.tokenizer = tokenizer\n",
    "        self.device = device\n",
    "        self.text = text\n",
    "        self.target = target\n",
    "        self.chunk_size = chunk_size\n",
    "        self.mode = mode\n",
    "\n",
    "    def __len__(self):\n",
    "        return len(self.data)\n",
    "\n",
    "    @staticmethod\n",
    "    def chunker(tokens: Dict[str, torch.Tensor], chunk_size: int = 512) -> List[str]:\n",
    "        input_ids = list(tokens[\"input_ids\"][0].split(chunk_size - 2))\n",
    "        attention_mask = list(tokens[\"attention_mask\"][0].split(chunk_size - 2))\n",
    "\n",
    "        cls_token_id = 2\n",
    "        eos_token_id = 3\n",
    "\n",
    "        for i in range(len(input_ids)):\n",
    "            input_ids[i] = torch.cat([torch.Tensor([cls_token_id]), input_ids[i], torch.Tensor([eos_token_id])])\n",
    "            attention_mask[i] = torch.cat([torch.Tensor([1]), attention_mask[i], torch.Tensor([1])])\n",
    "\n",
    "            pad_len = chunk_size - len(input_ids[i])\n",
    "            if pad_len > 0:\n",
    "                input_ids[i]= torch.cat([input_ids[i], torch.Tensor([0]*pad_len)])\n",
    "                attention_mask[i] = torch.cat([attention_mask[i], torch.Tensor([0]*pad_len)])\n",
    "                \n",
    "        tokens[\"input_ids\"] = torch.stack(input_ids)\n",
    "        tokens[\"attention_mask\"] = torch.stack(attention_mask)\n",
    "        \n",
    "        return tokens\n",
    "    \n",
    "    def __getitem__(self, idx: int):\n",
    "        tokens = self.tokenizer(self.data.iloc[idx][self.text], return_tensors=\"pt\", add_special_tokens=False, return_token_type_ids=False)\n",
    "        tokens = self.chunker(tokens, self.chunk_size)\n",
    "        \n",
    "        tokens[\"input_ids\"] = tokens[\"input_ids\"].to(device).long()\n",
    "        tokens[\"attention_mask\"] = tokens[\"attention_mask\"].to(device).int()\n",
    "\n",
    "        if self.mode == \"test\":\n",
    "            return tokens\n",
    "\n",
    "        label = self.data.iloc[idx][self.target]\n",
    "        return tokens, torch.tensor(label)"
   ]
  },
  {
   "cell_type": "markdown",
   "id": "9c466c15-1ee5-4f42-9b8e-9ae44c1ef00b",
   "metadata": {},
   "source": [
    "# Custom model"
   ]
  },
  {
   "cell_type": "code",
   "execution_count": 5,
   "id": "5cc59462-dfb7-4933-b2c0-3cea82a05781",
   "metadata": {},
   "outputs": [],
   "source": [
    "class BertClassification(nn.Module):\n",
    "    def __init__(self, bert):\n",
    "        super().__init__()\n",
    "        self.bert = bert\n",
    "\n",
    "        self.seq_0 = nn.Sequential(\n",
    "            nn.Linear(312, 512),\n",
    "            nn.ReLU(),\n",
    "            nn.Linear(512, 256),\n",
    "            nn.ReLU(),\n",
    "            nn.Linear(256, 128),\n",
    "            nn.ReLU(),\n",
    "            nn.Linear(128, 7)\n",
    "        )\n",
    "        \n",
    "    def forward(self, inputs):\n",
    "        x = self.bert(**inputs)\n",
    "        x = (x[\"last_hidden_state\"] * inputs[\"attention_mask\"][:, :, None]).sum(dim=1) / inputs[\"attention_mask\"][:, :, None].sum(dim=1)\n",
    "        x = self.seq_0(torch.mean(x, dim=0))\n",
    "\n",
    "        return x"
   ]
  },
  {
   "cell_type": "markdown",
   "id": "ee922a0e-0724-4307-8f46-e5921006a640",
   "metadata": {
    "jp-MarkdownHeadingCollapsed": true
   },
   "source": [
    "# Define train\\eval func"
   ]
  },
  {
   "cell_type": "code",
   "execution_count": 9,
   "id": "9ddb2577-208f-4237-b4bf-1ce4bdd53385",
   "metadata": {},
   "outputs": [],
   "source": [
    "def get_score(y_true, y_pred):\n",
    "    macro_f1 = f1_score(y_true, y_pred, average='macro')\n",
    "    macro_prec, micro_prec = precision_score(y_true, y_pred, average=\"macro\"), precision_score(y_true, y_pred, average=\"micro\")\n",
    "    macro_rec = recall_score(y_true, y_pred, average=\"macro\")\n",
    "    \n",
    "    return macro_f1, macro_prec, macro_rec, micro_prec"
   ]
  },
  {
   "cell_type": "code",
   "execution_count": 10,
   "id": "54549022-380a-4a4f-946e-12739622c396",
   "metadata": {},
   "outputs": [],
   "source": [
    "def train_fn(model, loss, data, optimizer):\n",
    "    model.train()\n",
    "    metrics = 0.0\n",
    "    y_true, y_pred = [], []\n",
    "    \n",
    "\n",
    "    for i, batch in enumerate(tqdm(data, leave=False, desc=\"Train\")):\n",
    "        tokens_list, target = batch\n",
    "        target = target.to(device)\n",
    "        temp_outputs = []\n",
    "\n",
    "        optimizer.zero_grad()\n",
    "        for tokens in tokens_list:\n",
    "            output = model(tokens)\n",
    "            temp_outputs.append(output)\n",
    "        temp_outputs = torch.stack(temp_outputs)\n",
    "        \n",
    "        loss_remains = loss(temp_outputs, target)\n",
    "        loss_remains.backward()\n",
    "        optimizer.step()\n",
    "\n",
    "        metrics += loss_remains.item()\n",
    "        y_pred.append(temp_outputs.to(\"cpu\").detach().numpy().argmax(1))\n",
    "        y_true.append(target.to(\"cpu\").detach().numpy())\n",
    "        \n",
    "    metrics /= len(data)\n",
    "\n",
    "    return metrics, np.hstack(y_pred), np.hstack(y_true)"
   ]
  },
  {
   "cell_type": "code",
   "execution_count": 11,
   "id": "67e1f1da-8f66-4564-bd86-1c10c12672bf",
   "metadata": {},
   "outputs": [],
   "source": [
    "def eval_fn(model, loss, data):\n",
    "    model.eval()\n",
    "    metrics = 0.0\n",
    "    y_true, y_pred = [], []\n",
    "\n",
    "    with torch.no_grad():\n",
    "        for batch in tqdm(data, leave=False, desc=\"Eval\"):\n",
    "            tokens_list, target = batch\n",
    "            target = target.to(device)\n",
    "            temp_outputs = []\n",
    "    \n",
    "            for tokens in tokens_list:\n",
    "                output = model(tokens)\n",
    "                temp_outputs.append(output)\n",
    "            temp_outputs = torch.stack(temp_outputs)\n",
    "            \n",
    "            loss_remains = loss(temp_outputs, target)\n",
    "\n",
    "            metrics += loss_remains.item()\n",
    "            y_pred.append(temp_outputs.to(\"cpu\").detach().numpy().argmax(1))\n",
    "            y_true.append(target.to(\"cpu\").detach().numpy())\n",
    "            \n",
    "    metrics /= len(data)\n",
    "    \n",
    "    return metrics, np.hstack(y_pred), np.hstack(y_true)"
   ]
  },
  {
   "cell_type": "code",
   "execution_count": 12,
   "id": "c8ac1549-babc-4aee-ac20-55bc33574b8a",
   "metadata": {},
   "outputs": [],
   "source": [
    "def fit(model, loss, optimizer, scheduler, train_loader, valid_loader, device, epochs):\n",
    "    info = \"Epoch: %s Train loss: %.3f Valid loss: %.3f\"\n",
    "    best_macro = 0.0\n",
    "    best_micro_precision_score = 0.0\n",
    "    info_metrics = \"Macro f1: %.3f | Macro precision: %.3f | Macro recall: %.3f | Micro precision: %.3f\"\n",
    "    \n",
    "    for epoch in trange(epochs):\n",
    "        train_loss, y_train_pred, y_train_true = train_fn(model, loss, train_loader, optimizer)\n",
    "        eval_loss, y_eval_pred, y_eval_true = eval_fn(model, loss, valid_loader)\n",
    "        \n",
    "        train_metrics = get_score(y_train_true, y_train_pred)\n",
    "        eval_metrics = get_score(y_eval_true, y_eval_pred)\n",
    "        print(info_metrics % train_metrics , \"-- train\")\n",
    "        print(info_metrics % eval_metrics, \"-- eval\")\n",
    "        \n",
    "        if best_macro < sum(eval_metrics[:3]) / 3:\n",
    "            best_macro = sum(eval_metrics[:3]) / 3\n",
    "            torch.save(model.state_dict(), f\"./models/model_best_val_macro_{best_macro:.4f}.pt\")\n",
    "\n",
    "        if best_micro_precision_score < eval_metrics[-1]:\n",
    "            best_micro_precision_score = eval_metrics[-1]\n",
    "            torch.save(model.state_dict(), f\"./models/model_best_val_micro_{best_micro_precision_score:.4f}.pt\")\n",
    "            \n",
    "        \n",
    "        print(info % (epoch + 1, train_loss, eval_loss), \"\\n\")\n",
    "        scheduler.step()\n",
    "        gc.collect()\n",
    "        torch.cuda.empty_cache()\n",
    "    print(best_macro, best_micro_precision_score)"
   ]
  },
  {
   "cell_type": "markdown",
   "id": "05db5139-5c10-47dd-b847-cb4a1cf303e4",
   "metadata": {},
   "source": [
    "# Define train\\test split"
   ]
  },
  {
   "cell_type": "code",
   "execution_count": 13,
   "id": "6b709955-3413-4fac-a49b-5d1a7ed30066",
   "metadata": {},
   "outputs": [],
   "source": [
    "df[\"vacancy_description\"] = df[\"search_by_name\"] + \" \" + df[\"vacancy_description\"]"
   ]
  },
  {
   "cell_type": "code",
   "execution_count": 6,
   "id": "7f915b8d-a8dc-4cb0-ad8d-356f089c04ea",
   "metadata": {},
   "outputs": [],
   "source": [
    "train, valid = train_test_split(df, shuffle=True, train_size=0.8, stratify=df[\"target\"], random_state=random_state)"
   ]
  },
  {
   "cell_type": "code",
   "execution_count": 7,
   "id": "2663d113-68e3-4586-9302-59c0ef163695",
   "metadata": {},
   "outputs": [],
   "source": [
    "valid, test = train_test_split(valid, shuffle=False, test_size=0.2, random_state=random_state)"
   ]
  },
  {
   "cell_type": "code",
   "execution_count": 8,
   "id": "2937370b-916b-4326-a3cf-3fdd962b67ec",
   "metadata": {},
   "outputs": [],
   "source": [
    "tokenizer = AutoTokenizer.from_pretrained(model_name)"
   ]
  },
  {
   "cell_type": "code",
   "execution_count": 17,
   "id": "89b35896-1fa8-4513-b542-2a4a9b78858f",
   "metadata": {},
   "outputs": [],
   "source": [
    "def collate_fn(data):\n",
    "    data, label = list(zip(*data))\n",
    "    return data, torch.stack(label)"
   ]
  },
  {
   "cell_type": "code",
   "execution_count": 41,
   "id": "f89edcad-44c2-43e1-aa5e-25ee621bd6d2",
   "metadata": {},
   "outputs": [],
   "source": [
    "text_columns = \"vacancy_description\"\n",
    "target_columns = \"target\"\n",
    "chunk_size = 1024\n",
    "\n",
    "train_dataset = CustomVacancyDataset(train, tokenizer, device, text_columns, target_columns, chunk_size, mode=\"train\")\n",
    "valid_dataset = CustomVacancyDataset(valid, tokenizer, device, text_columns, target_columns, chunk_size, mode=\"valid\")\n",
    "test_dataset = CustomVacancyDataset(test, tokenizer, device, text_columns, target_columns, chunk_size, mode=\"valid\")\n",
    "\n",
    "train_loader = DataLoader(train_dataset, batch_size=batch_size, shuffle=True, collate_fn=collate_fn)\n",
    "valid_loader = DataLoader(valid_dataset, batch_size=batch_size, shuffle=False, collate_fn=collate_fn)\n",
    "test_loader = DataLoader(test_dataset, batch_size=batch_size, shuffle=False, collate_fn=collate_fn)"
   ]
  },
  {
   "cell_type": "code",
   "execution_count": 23,
   "id": "6726396d-f2f6-4b80-a219-42a68170d57c",
   "metadata": {},
   "outputs": [],
   "source": [
    "batch_example = next(iter(train_loader))[0]"
   ]
  },
  {
   "cell_type": "code",
   "execution_count": 45,
   "id": "cc8e385a-336e-405b-affa-43356503df58",
   "metadata": {},
   "outputs": [
    {
     "name": "stdout",
     "output_type": "stream",
     "text": [
      "tensor(2, device='cuda:0')\n",
      "tensor([    2, 37975, 17560,   733,   762,  3325,   677,   735,   422,  2274,\n",
      "           17, 26538,   105,   294, 11094, 22023, 20727,  3131,  3618,   117,\n",
      "           18,     3], device='cuda:0')\n",
      "tensor(2, device='cuda:0')\n",
      "tensor([    2, 32803, 15671,  1512,    16,  1034,   533,  7664,    16, 42800,\n",
      "         1172,  1276,    16, 59692,  4845, 13778,   626,    16,  1492,   666,\n",
      "           16,  8008, 12419,   555,    16, 22996,   699,    16, 22996,   542,\n",
      "           16,  8426,  2920,    16,  1407,    10,  7243,    16,  7243, 20968,\n",
      "           16,  1727, 10304,    16,  8472,  6970,    16,  1777, 17341, 17856,\n",
      "           16, 53753, 12810, 19607,  4960,    16, 44093, 51042,   872,    16,\n",
      "        14035,  4959,    16,  2172, 14536,    16,  1744, 17181,  3155,    16,\n",
      "         5793,  5772, 11320,  6098,    16,    22,  1521, 12555,    16, 15688,\n",
      "         1770,  1828,  2859,    16, 42134, 56649,    16,  7324,  8856,    16,\n",
      "         6069,  1235,    16,  2781,  1388,    16,  1569,   981,   981,    16,\n",
      "         3792,  3975,  2234,    16,  1569,  3435,  1711,   661,    16,  4730,\n",
      "          853,    16, 27814,    16, 27814, 20611,    16, 24680,    16, 16468,\n",
      "         1667, 27745,   805,    16,    51,  1359,  1365,    16,  5474,  1532,\n",
      "           16,  4677,  5523,    16, 25258,    16, 21220,    16,  5863,    30,\n",
      "         6515,    16,    39, 24719,   533,    16,  1805,  9091,    16,  1991,\n",
      "        28245,   965,    16, 11506,  3253,   767,    16, 61108,  2958,    16,\n",
      "        50937,    16,    61, 19321,  1451,    16, 25264,    16,  4470,  5644,\n",
      "           16, 16632, 31398, 20076,    16, 55542, 29225,  1336,    16,   291,\n",
      "         9287, 12171,  1903,   320,   314,  3725, 33291,    18,     3],\n",
      "       device='cuda:0')\n",
      "tensor(2, device='cuda:0')\n",
      "tensor([    2,    35, 50655, 16018, 42292,     5, 37652, 44437,    16,  7081,\n",
      "          331, 29852,  4674, 25397,  5058,   314,  5489, 46837,    16,  1150,\n",
      "        61290,    16, 48243,    22,    16,  6574,  2360,    12,  3278,  3213,\n",
      "           13,    16,  9757,   633,    16, 37075, 15671,    16, 44827,    16,\n",
      "        34191,    16, 65759,    16, 45304,    16, 58971,  1229,    16,  8279,\n",
      "        35085,    16, 34191,   285,  1170,    16, 33059,  2595, 36042,    16,\n",
      "        41169,    16, 69920, 35085,    16, 49097, 19578,   866,    16, 83229,\n",
      "         8447,    16, 18323,  1500,   638,    16, 41421, 35085,    16, 20633,\n",
      "         1505,    16,   298, 15454,   721,    16, 48305, 36042,    16, 34876,\n",
      "        36202,    16, 16114,   676,    16, 16272,  1329, 10931,    16, 46382,\n",
      "        38159,    16, 36573,  5165,    16,   284, 35694,    18, 10721, 10030,\n",
      "           17,   769, 36373,    16, 11521, 23729, 34716,   656,     5,     7,\n",
      "        48853,  1545,  8703,     7,  8703,   778,  7692,     7,  8703, 41160,\n",
      "            7, 48853,   872,     7, 29864, 25017,     7, 29864,   705, 11143,\n",
      "          329, 42013,     7, 31514,   705, 11143,   329, 42013,     7, 26411,\n",
      "        71150,     7,  2399, 32683,     7, 53264,  8620, 29864,     7, 29864,\n",
      "            3], device='cuda:0')\n",
      "tensor(2, device='cuda:0')\n",
      "tensor([    2,   329, 62345,    16, 30080,  3687,   314,  5215, 24226, 26629,\n",
      "        38924, 34079, 64209, 38391,   548, 45877, 13441,    18, 20264, 11521,\n",
      "          769, 71841,  5685, 17003,  5058,    18, 30396, 10632, 30533,  8471,\n",
      "          769, 18754,    16,   312, 12133,    16,   330,    18,   322,    18,\n",
      "           30, 18754, 14596, 30595,    16, 79118,    16, 56968,  6387,    16,\n",
      "        30473, 65056, 47742,    16,   769,  6653, 29696,   320,  7957,    18,\n",
      "           35,  9672,    16,  5081,    18,  4638,  2554, 77408, 10982,  1464,\n",
      "        30866, 11521,   769, 30872,    18,  7063, 33007, 30654, 38633, 69354,\n",
      "          775, 12735, 55184,   320, 34840,   320, 31186, 49292, 43073,    16,\n",
      "          314,  2079,  4769, 16803,    18,     3], device='cuda:0')\n",
      "tensor(2, device='cuda:0')\n",
      "tensor([    2,   872,    16, 32777,  1650,    16, 53264,  8620, 29864,    16,\n",
      "         2399, 32683,    16, 30238, 15522, 43767,  1229, 48048,    16, 75280,\n",
      "          887, 11938,    16, 79354,  1903, 11938,    16, 68592,  7894, 25763,\n",
      "           16, 63879,    16, 33880, 74094,  3126, 35500,    16, 41482,   872,\n",
      "        80820,    18, 76164, 43077, 52704,     5, 10721,   769, 62677,  4388,\n",
      "           17, 52193,   548, 73381,    16, 11521, 30421, 30440, 74355,  2454,\n",
      "            5,     3], device='cuda:0')\n",
      "tensor(2, device='cuda:0')\n",
      "tensor([    2,   329, 62345,    16, 30080,  3687,   314,  5215, 24226, 26629,\n",
      "        38924, 34079, 64209, 38391,   548, 45877, 13441,    18, 20264, 11521,\n",
      "          769, 71841,  5685, 17003,  5058,    18, 30396, 10632, 30533,  8471,\n",
      "          769, 18754,    16,   312, 12133,    16,   330,    18,   322,    18,\n",
      "           30, 18754, 14596, 30595,    16, 79118,    16, 56968,  6387,    16,\n",
      "        30473, 65056, 47742,    16,   769,  6653, 29696,   320,  7957,    18,\n",
      "           35,  9672,    16,  5081,    18,  4638,  2554, 77408, 10982,  1464,\n",
      "        30866, 11521,   769, 30872,    18,  7063, 33007, 30654, 38633, 69354,\n",
      "          775, 12735, 55184,   320, 34840,   320, 31186, 49292, 43073,    16,\n",
      "          314,  2079,  4769, 16803,    18,     3], device='cuda:0')\n",
      "tensor(2, device='cuda:0')\n",
      "tensor([    2, 44496,  7525,    16, 14035,  4959,    16,  2172, 14536,    16,\n",
      "         5793,  5772, 11320,  6098,    16,    22,  1521, 12555,    16, 15688,\n",
      "         1770,  1828,  2859,    16, 42134, 56649,    16,  7324,  8856,    16,\n",
      "         6069,  1235,    16,  2781,  1388,    16,  1569,   981,   981,    16,\n",
      "         4730,   853,    16, 16468,  1667, 27745,   805,    16, 25258,    16,\n",
      "           39, 24719,   533,    16,  1991, 28245,   965,    16, 50937,    16,\n",
      "           61, 19321,  1451,    16, 25264,    16, 16632, 36659, 20076,    16,\n",
      "        81139, 10704,    16, 62136, 64774,   775,    18,     3],\n",
      "       device='cuda:0')\n",
      "tensor(2, device='cuda:0')\n",
      "tensor([    2, 33082,    17, 38655, 31765,  1251, 26127,    18,  9961,  4674,\n",
      "        10218, 30895,   705, 33255, 23343,  4678, 70243, 41885, 12851, 14386,\n",
      "         5151, 40302,  1160, 30895,    18, 51218, 16861,     1, 38655,   733,\n",
      "           23, 30895,   314, 24226,    12,   314,  5215, 24226,   793, 30895,\n",
      "           16,   815,  5509,  3698,    16,   314, 19834,  3958,   320,   330,\n",
      "           18,   316,    18,    13,    18, 42020, 39099,  6744, 82566,   778,\n",
      "        83540,  1135,   672,   320, 10698,   793,     9,   329, 54109,    12,\n",
      "          322, 31437,    16, 10804, 36168, 31189,   548,   575,   672,   320,\n",
      "        47518, 10218,   705, 33255,   548,   575,   672,    16,   662,   672,\n",
      "          320,   665,   672,    16, 10164, 42020, 39099, 32332,   793,   672,\n",
      "           33,  1135,   672,     1,   575,   672,    15,   575,   672,    15,\n",
      "          662,   672,    15,   665,   672,    13,    18, 10721, 38655, 35472,\n",
      "        58550,    16,  1619, 11521, 30421, 37957,   656,  1135,   672,    12,\n",
      "        56903,    13,   320, 31143, 41638,   938,    18,  1041, 35497, 22531,\n",
      "        19736,    18, 50655, 13525, 71405,  1725,   548, 35497, 22531,   320,\n",
      "        38924, 54819,  1154, 30649,   548, 44909, 60593,    18, 58214,  9772,\n",
      "         6744, 31527, 35203,    22, 17052,  1781, 32143, 71927,    18,     3],\n",
      "       device='cuda:0')\n",
      "tensor(2, device='cuda:0')\n",
      "tensor([    2,  5058,    16, 54979, 25982,    16, 64661, 71550,    16, 30324,\n",
      "          548, 41471, 42846, 76831,   865,    16, 43707, 12774, 35603, 42846,\n",
      "        76831,   865,   320, 37561,    13,    18,    22,    18,    22, 74002,\n",
      "        70229,    12, 35368, 42156, 70229,   548, 40088,    16, 41639, 70229,\n",
      "          314, 13869,   329, 73009,    16,  7225,   705, 70000,    13,    18,\n",
      "           22,    18,    23, 72013, 35603,   320, 32957, 59011, 70369, 25982,\n",
      "           12, 53299,    16, 53618, 48790,    16, 47576,   320, 42168,    13,\n",
      "           18,    23,    18, 11424, 18246, 24159,    30,    23,    18,    21,\n",
      "        69145, 61853, 22587, 31412,    16, 32075,   329, 43682,   775,   320,\n",
      "        42459, 35603,    18,    23,    18,    22, 45909, 58848,  5192, 83753,\n",
      "          314, 38332,    18,    23,    18,    23, 66313,   700,   320, 66872,\n",
      "         3098, 20311, 10938,   778, 42345,   871, 36316,   314, 19930,    18,\n",
      "           23,    18,    24, 50064, 25982,   705, 60803, 37129,  5192, 43903,\n",
      "        64095, 35694,    16, 55041,    16, 61035,    18,    23,    18,    25,\n",
      "        43542, 28357,   870, 39842,    16, 29056,    16, 35750,   548, 41657,\n",
      "          320,   330,    18,   316,    18, 56203,    30, 45030, 39941, 47855,\n",
      "           12, 36400,  1439, 30620,   320, 62618,    16, 66841,    13, 43528,\n",
      "         5058,   548, 62851, 49892,    17,   769,  7321,    23,  2262,    18,\n",
      "          282,  1466, 65878, 35603,   320, 44764,    30, 36147, 35603,   320,\n",
      "        25622, 35990,    16, 77036, 15014,    16, 43682,  5319, 46104,    16,\n",
      "        20237, 80210, 15343,  2145, 37740, 15368,   314, 19930,    16, 22255,\n",
      "        26977, 30737,    16, 22255, 71025, 10880,    16, 22042, 49418,   329,\n",
      "        73976,   320, 62345,    16, 22042, 20129,   320, 40133, 36400,  1251,\n",
      "          320, 38332, 44764,    12,   705, 70392,    13,    16, 22042, 49418,\n",
      "          329, 57525,   329, 31837, 34486, 37163,    18,   282,  1466, 35603,\n",
      "        28274,   705, 74887, 78676,    30, 22042, 35603,   320, 68240,  1512,\n",
      "        30936,   320, 30737, 37430,    16, 53866, 31113, 36183, 30189, 35529,\n",
      "        43244,  2145, 31889, 29732,  1023,    16, 30538, 44767,   320,  4154,\n",
      "        37793,    18,   282,  1466, 71153, 35603,    30, 53866, 31113, 47756,\n",
      "        32999,    16,  5058,   329, 81551, 35004,  6455,    16, 32476, 36183,\n",
      "        39666, 35002,    16, 25776,    47,  3932, 14080,    18, 48659,  2182,\n",
      "        48681, 42345, 80271, 73537,    28,    18,    23,    16, 74716, 51860,\n",
      "           16, 42345,   287, 26575,    18, 64068, 24193, 49352,    16, 27259,\n",
      "         1597,    16, 68910,  6325,    17,  6744, 46949,    16, 42568, 74475,\n",
      "         6186, 35824,    16, 39935, 36842, 53350, 18603, 31113, 23370,  3330,\n",
      "        20712,    18, 47260,    30, 43891, 34764, 29426,   548,  9387, 13885,\n",
      "        60440,    31, 55542, 12509,    30, 11029, 49199, 52870,   548, 65295,\n",
      "         5290,  1550,    31, 49131,  5058,    25,    19,    22,    12, 34274,\n",
      "        31162,   764,    16, 31803,    13,    16,   575,    30,  1193,    17,\n",
      "          682,    30,  1193,    12, 14159, 42980,  9550,  1614,  6329,    16,\n",
      "        10946, 34013,  6846,    16,  4204, 40260,    13,    31, 74374, 65396,\n",
      "         1967,    16, 73671, 39099,    16,  4203,   314, 14285, 54166,    31,\n",
      "        44237,  7055, 34425,    30, 50897, 35592,   871, 28618, 18653,    16,\n",
      "        42996, 34458,   314, 10114,   871,  7609, 28618,    16, 47060,   548,\n",
      "        39983, 33959, 37430,   671,     9,    31, 34400, 25017,   548, 20600,\n",
      "        69877,   320, 47006,    18,     3], device='cuda:0')\n",
      "tensor(2, device='cuda:0')\n",
      "tensor([    2, 11143,    16, 60726, 48197,    16, 41452, 14523,   314, 15381,\n",
      "           18, 10804, 38924,   314,  5215,  1712,  4045,    30, 38157,  1308,\n",
      "        42736,   548, 42424,    30,    25,     9,   314, 46867,     6,   285,\n",
      "        51656, 11835,   872,     6,    16,    23,     9,   314, 46867,     6,\n",
      "         1371,  5304,     6,    31, 52391, 74118,  1545, 16859,   329, 32890,\n",
      "        63967,   320, 68507,   871, 47516,   314, 16601, 32689,     6, 45706,\n",
      "        17947,   751,     6,   320,   331,  2445,   604, 34896, 44561,     5,\n",
      "        50655, 16018, 42292,     5, 30621, 13198, 31473, 28545,   314, 59415,\n",
      "          626, 13182,   705, 34451,    30,   315,    18, 17833,    16,  4724,\n",
      "           18, 39870, 18462, 18618,    16,   316,    18,   637,    16,    12,\n",
      "         3865,    18, 18623, 43649, 16982,    13,    16,  1614,  5058,   329,\n",
      "         1201,    30,  1193,   745,   637,    30,  1193,    18, 59143, 35388,\n",
      "         4843, 68466, 36698, 29546, 29540,  5905, 23621, 29544,   290, 37570,\n",
      "        41953,  7893, 73314,   285, 47729,  3330, 31500, 27248,  4292,     5,\n",
      "            3], device='cuda:0')\n",
      "tensor(2, device='cuda:0')\n",
      "tensor([    2,  2443, 17678,    16,  4786, 20968,    16,  3153,   906, 20940,\n",
      "           16,  9778, 23573,    16,   609,    39, 18324,   866,    16,  3682,\n",
      "         2406,    16, 46191, 61296, 32803, 15671,  1512,    16,  1034,   533,\n",
      "         7664,    16, 42800,  1172,  1276,    16, 59692,  4845, 13778,   626,\n",
      "           16,  1492,   666,    16,  8008, 12419,   555,    16,  1407,    10,\n",
      "         7243,    16,  7243, 20968,    16,  1727, 10304,    16,  8472,  6970,\n",
      "           16,  1777, 17341, 17856,    16, 53753, 12810, 19607,  4960,    16,\n",
      "        44093, 51042,   872,    16, 15129, 73498, 68097,   603,    16, 68097,\n",
      "        56150,    16, 14035,  4959,    16, 44496,  7525,    16,  2172, 14536,\n",
      "           16,  5793,  5772, 11320,  6098,    16,    22,  1521, 12555,    16,\n",
      "        15688,  1770,  1828,  2859,    16, 42134, 56649,    16,  7324,  8856,\n",
      "           16,  6069,  1235,    16,  2781,  1388,    16,  1569,   981,   981,\n",
      "           16,  3792,  3975,  2234,    16,  4730,   853,    16, 27814,    16,\n",
      "         7226, 25896,   555,    16, 27814, 20611,    16, 24680,    16, 16468,\n",
      "         1667, 27745,   805,    16, 25258,    16, 21220,    16,  5863,    30,\n",
      "         6515,    16,    39, 24719,   533,    16,  1805,  9091,    16,  1991,\n",
      "        28245,   965,    16, 11506,  3253,   767,    16, 61108,  2958,    16,\n",
      "        50937,    16,    61, 19321,  1451,    16, 25264,    16,  4470,  5644,\n",
      "           16, 16632, 31398, 20076,    16, 55542, 29225,  1336,    16,   291,\n",
      "         9287, 12171,  1903,    16, 59024, 50995,    16, 52780, 52675,   320,\n",
      "         3725, 33291,    18,     3], device='cuda:0')\n",
      "tensor(2, device='cuda:0')\n",
      "tensor([    2, 48243,    22,    16,   309,  4845, 54125,   761,    12, 11939,\n",
      "           18, 58635,    13,    16,    61,   721,   549,   603,    16, 37075,\n",
      "        15671,    16, 44827,    16, 34191,    16, 65759,    16, 45304,    16,\n",
      "        58971,  1229,    16,  8279, 35085,    16, 34191,   285,  1170,    16,\n",
      "        33059,  2595, 36042,    16, 41169,    16, 69920, 35085,    16, 49097,\n",
      "        19578,   866,    16, 83229,  8447,    16,    58, 14142,  7126,   603,\n",
      "           16, 41421, 35085,    16,    40,  4845,  1505,    16,   298, 15454,\n",
      "          721,    16, 48305, 36042,    16, 34876, 36202,    16,   294,   711,\n",
      "          721,   541,    16, 16272,  1329,   831, 16255,    16, 46382, 38159,\n",
      "           16, 36573,  5165,    16,   284, 35694,   548, 12136, 36839,   705,\n",
      "        11143,   329, 42013,    16, 46058,   705, 30380, 27874, 30895,    16,\n",
      "        37732,  1101,  1329,    17,  6585,    16, 46058,   705, 53949,    18,\n",
      "            3], device='cuda:0')\n",
      "tensor(2, device='cuda:0')\n",
      "tensor([    2,   329, 62345,    16, 30080,  3687,   314,  5215, 24226, 26629,\n",
      "        38924, 34079, 64209, 38391,   548, 45877, 13441,    18, 20264, 11521,\n",
      "          769, 71841,  5685, 17003,  5058,    18, 30396, 10632, 30533,  8471,\n",
      "          769, 18754,    16,   312, 12133,    16,   330,    18,   322,    18,\n",
      "           30, 18754, 14596, 30595,    16, 79118,    16, 56968,  6387,    16,\n",
      "        30473, 65056, 47742,    16,   769,  6653, 29696,   320,  7957,    18,\n",
      "           35,  9672,    16,  5081,    18,  4638,  2554, 77408, 10982,  1464,\n",
      "        30866, 11521,   769, 30872,    18,  7063, 33007, 30654, 38633, 69354,\n",
      "          775, 12735, 55184,   320, 34840,   320, 31186, 49292, 43073,    16,\n",
      "          314,  2079,  4769, 16803,    18,     3], device='cuda:0')\n",
      "tensor(2, device='cuda:0')\n",
      "tensor([    2,  2443, 17678,    16,  4786, 20968,    16,  3153,   906, 20940,\n",
      "           16,  9778, 23573,    16,   609,    39, 18324,   866,    16,  3682,\n",
      "         2406,    16, 46191, 61296, 32803, 15671,  1512,    16,  1034,   533,\n",
      "         7664,    16, 42800,  1172,  1276,    16, 59692,  4845, 13778,   626,\n",
      "           16,  1492,   666,    16,  8008, 12419,   555,    16,  1407,    10,\n",
      "         7243,    16,  7243, 20968,    16,  1727, 10304,    16,  8472,  6970,\n",
      "           16,  1777, 17341, 17856,    16, 53753, 12810, 19607,  4960,    16,\n",
      "        44093, 51042,   872,    16, 15129, 73498, 68097,   603,    16, 68097,\n",
      "        56150,    16, 14035,  4959,    16, 44496,  7525,    16,  2172, 14536,\n",
      "           16,  5793,  5772, 11320,  6098,    16,    22,  1521, 12555,    16,\n",
      "        15688,  1770,  1828,  2859,    16, 42134, 56649,    16,  7324,  8856,\n",
      "           16,  6069,  1235,    16,  2781,  1388,    16,  1569,   981,   981,\n",
      "           16,  3792,  3975,  2234,    16,  4730,   853,    16, 27814,    16,\n",
      "         7226, 25896,   555,    16, 27814, 20611,    16, 24680,    16, 16468,\n",
      "         1667, 27745,   805,    16, 25258,    16, 21220,    16,  5863,    30,\n",
      "         6515,    16,    39, 24719,   533,    16,  1805,  9091,    16,  1991,\n",
      "        28245,   965,    16, 11506,  3253,   767,    16, 61108,  2958,    16,\n",
      "        50937,    16,    61, 19321,  1451,    16, 25264,    16,  4470,  5644,\n",
      "           16, 16632, 31398, 20076,    16, 55542, 29225,  1336,    16,   291,\n",
      "         9287, 12171,  1903,    16, 59024, 50995,    16, 52780, 52675,   320,\n",
      "         3725, 33291,    18,     3], device='cuda:0')\n",
      "tensor(2, device='cuda:0')\n",
      "tensor([    2, 11201, 51800, 54871,  6530,  3131,  3618,    16,   548, 11201,\n",
      "        41299,    12, 71397,    13, 32250,    31, 37280, 31580,   320, 30620,\n",
      "        28274,  1154, 33419, 32253, 30981,    16, 33419, 36951, 59320, 34121,\n",
      "           16, 33419,    16, 32457, 23255,   815, 47462, 37300, 70006, 41299,\n",
      "        15368,    16, 33419, 30981, 77968, 10798,    16, 33419, 26647, 41299,\n",
      "           12, 71397,    13, 32250,   320, 34533,   769, 37766,  4452, 59320,\n",
      "        23842,    16, 33419, 51486, 34144, 39339,   548, 36345, 22276,  7546,\n",
      "        59209,    16, 36822,   314, 67650,    16,   314, 13869,   329, 51269,\n",
      "        24619,   326, 40941, 43680,   548, 38733, 43846,  1810,   320,   548,\n",
      "        72410,  3915,    16, 71609, 12879,  3131,  3618,   320, 16733,  3131,\n",
      "         3618,    16, 67229,   613,   314, 13869,   329, 30454,  1635, 41203,\n",
      "         3131,  3618,    16, 39154,  3092, 66298,   613, 71609, 16924, 29753,\n",
      "         3131,  3618,   320, 37975, 59813,  2014,    16, 30932, 51092, 33620,\n",
      "        32253, 30981,   705, 44481,   656,   320, 48916, 34121, 45110, 32253,\n",
      "        30981,    18, 56203,    30, 43973, 27337, 34764,  6893,    18, 79301,\n",
      "        22023, 10969,  1109, 34193,  5058,   705, 24690,    16, 37249, 20129,\n",
      "           16,  2371, 38763,   871, 29837, 10113, 12238, 22023, 10969,    30,\n",
      "         2399, 83138, 30211,   322, 34193,   644,    18, 47260,    30, 32115,\n",
      "        27973,  4045,    31, 38804,  5058,   329,    28,    30,   659,   745,\n",
      "          685,    30,   659,    31, 43107, 34425,    18,     3],\n",
      "       device='cuda:0')\n"
     ]
    },
    {
     "ename": "KeyboardInterrupt",
     "evalue": "",
     "output_type": "error",
     "traceback": [
      "\u001b[1;31m---------------------------------------------------------------------------\u001b[0m",
      "\u001b[1;31mKeyboardInterrupt\u001b[0m                         Traceback (most recent call last)",
      "Cell \u001b[1;32mIn[45], line 1\u001b[0m\n\u001b[1;32m----> 1\u001b[0m \u001b[38;5;28;01mfor\u001b[39;00m batch \u001b[38;5;129;01min\u001b[39;00m train_loader:\n\u001b[0;32m      2\u001b[0m     token_list, target \u001b[38;5;241m=\u001b[39m batch\n\u001b[0;32m      3\u001b[0m     \u001b[38;5;28;01mfor\u001b[39;00m tokens \u001b[38;5;129;01min\u001b[39;00m token_list:\n",
      "File \u001b[1;32mD:\\pd\\ML_part\\venv\\lib\\site-packages\\torch\\utils\\data\\dataloader.py:631\u001b[0m, in \u001b[0;36m_BaseDataLoaderIter.__next__\u001b[1;34m(self)\u001b[0m\n\u001b[0;32m    628\u001b[0m \u001b[38;5;28;01mif\u001b[39;00m \u001b[38;5;28mself\u001b[39m\u001b[38;5;241m.\u001b[39m_sampler_iter \u001b[38;5;129;01mis\u001b[39;00m \u001b[38;5;28;01mNone\u001b[39;00m:\n\u001b[0;32m    629\u001b[0m     \u001b[38;5;66;03m# TODO(https://github.com/pytorch/pytorch/issues/76750)\u001b[39;00m\n\u001b[0;32m    630\u001b[0m     \u001b[38;5;28mself\u001b[39m\u001b[38;5;241m.\u001b[39m_reset()  \u001b[38;5;66;03m# type: ignore[call-arg]\u001b[39;00m\n\u001b[1;32m--> 631\u001b[0m data \u001b[38;5;241m=\u001b[39m \u001b[38;5;28;43mself\u001b[39;49m\u001b[38;5;241;43m.\u001b[39;49m\u001b[43m_next_data\u001b[49m\u001b[43m(\u001b[49m\u001b[43m)\u001b[49m\n\u001b[0;32m    632\u001b[0m \u001b[38;5;28mself\u001b[39m\u001b[38;5;241m.\u001b[39m_num_yielded \u001b[38;5;241m+\u001b[39m\u001b[38;5;241m=\u001b[39m \u001b[38;5;241m1\u001b[39m\n\u001b[0;32m    633\u001b[0m \u001b[38;5;28;01mif\u001b[39;00m \u001b[38;5;28mself\u001b[39m\u001b[38;5;241m.\u001b[39m_dataset_kind \u001b[38;5;241m==\u001b[39m _DatasetKind\u001b[38;5;241m.\u001b[39mIterable \u001b[38;5;129;01mand\u001b[39;00m \\\n\u001b[0;32m    634\u001b[0m         \u001b[38;5;28mself\u001b[39m\u001b[38;5;241m.\u001b[39m_IterableDataset_len_called \u001b[38;5;129;01mis\u001b[39;00m \u001b[38;5;129;01mnot\u001b[39;00m \u001b[38;5;28;01mNone\u001b[39;00m \u001b[38;5;129;01mand\u001b[39;00m \\\n\u001b[0;32m    635\u001b[0m         \u001b[38;5;28mself\u001b[39m\u001b[38;5;241m.\u001b[39m_num_yielded \u001b[38;5;241m>\u001b[39m \u001b[38;5;28mself\u001b[39m\u001b[38;5;241m.\u001b[39m_IterableDataset_len_called:\n",
      "File \u001b[1;32mD:\\pd\\ML_part\\venv\\lib\\site-packages\\torch\\utils\\data\\dataloader.py:675\u001b[0m, in \u001b[0;36m_SingleProcessDataLoaderIter._next_data\u001b[1;34m(self)\u001b[0m\n\u001b[0;32m    673\u001b[0m \u001b[38;5;28;01mdef\u001b[39;00m \u001b[38;5;21m_next_data\u001b[39m(\u001b[38;5;28mself\u001b[39m):\n\u001b[0;32m    674\u001b[0m     index \u001b[38;5;241m=\u001b[39m \u001b[38;5;28mself\u001b[39m\u001b[38;5;241m.\u001b[39m_next_index()  \u001b[38;5;66;03m# may raise StopIteration\u001b[39;00m\n\u001b[1;32m--> 675\u001b[0m     data \u001b[38;5;241m=\u001b[39m \u001b[38;5;28;43mself\u001b[39;49m\u001b[38;5;241;43m.\u001b[39;49m\u001b[43m_dataset_fetcher\u001b[49m\u001b[38;5;241;43m.\u001b[39;49m\u001b[43mfetch\u001b[49m\u001b[43m(\u001b[49m\u001b[43mindex\u001b[49m\u001b[43m)\u001b[49m  \u001b[38;5;66;03m# may raise StopIteration\u001b[39;00m\n\u001b[0;32m    676\u001b[0m     \u001b[38;5;28;01mif\u001b[39;00m \u001b[38;5;28mself\u001b[39m\u001b[38;5;241m.\u001b[39m_pin_memory:\n\u001b[0;32m    677\u001b[0m         data \u001b[38;5;241m=\u001b[39m _utils\u001b[38;5;241m.\u001b[39mpin_memory\u001b[38;5;241m.\u001b[39mpin_memory(data, \u001b[38;5;28mself\u001b[39m\u001b[38;5;241m.\u001b[39m_pin_memory_device)\n",
      "File \u001b[1;32mD:\\pd\\ML_part\\venv\\lib\\site-packages\\torch\\utils\\data\\_utils\\fetch.py:51\u001b[0m, in \u001b[0;36m_MapDatasetFetcher.fetch\u001b[1;34m(self, possibly_batched_index)\u001b[0m\n\u001b[0;32m     49\u001b[0m         data \u001b[38;5;241m=\u001b[39m \u001b[38;5;28mself\u001b[39m\u001b[38;5;241m.\u001b[39mdataset\u001b[38;5;241m.\u001b[39m__getitems__(possibly_batched_index)\n\u001b[0;32m     50\u001b[0m     \u001b[38;5;28;01melse\u001b[39;00m:\n\u001b[1;32m---> 51\u001b[0m         data \u001b[38;5;241m=\u001b[39m [\u001b[38;5;28mself\u001b[39m\u001b[38;5;241m.\u001b[39mdataset[idx] \u001b[38;5;28;01mfor\u001b[39;00m idx \u001b[38;5;129;01min\u001b[39;00m possibly_batched_index]\n\u001b[0;32m     52\u001b[0m \u001b[38;5;28;01melse\u001b[39;00m:\n\u001b[0;32m     53\u001b[0m     data \u001b[38;5;241m=\u001b[39m \u001b[38;5;28mself\u001b[39m\u001b[38;5;241m.\u001b[39mdataset[possibly_batched_index]\n",
      "File \u001b[1;32mD:\\pd\\ML_part\\venv\\lib\\site-packages\\torch\\utils\\data\\_utils\\fetch.py:51\u001b[0m, in \u001b[0;36m<listcomp>\u001b[1;34m(.0)\u001b[0m\n\u001b[0;32m     49\u001b[0m         data \u001b[38;5;241m=\u001b[39m \u001b[38;5;28mself\u001b[39m\u001b[38;5;241m.\u001b[39mdataset\u001b[38;5;241m.\u001b[39m__getitems__(possibly_batched_index)\n\u001b[0;32m     50\u001b[0m     \u001b[38;5;28;01melse\u001b[39;00m:\n\u001b[1;32m---> 51\u001b[0m         data \u001b[38;5;241m=\u001b[39m [\u001b[38;5;28;43mself\u001b[39;49m\u001b[38;5;241;43m.\u001b[39;49m\u001b[43mdataset\u001b[49m\u001b[43m[\u001b[49m\u001b[43midx\u001b[49m\u001b[43m]\u001b[49m \u001b[38;5;28;01mfor\u001b[39;00m idx \u001b[38;5;129;01min\u001b[39;00m possibly_batched_index]\n\u001b[0;32m     52\u001b[0m \u001b[38;5;28;01melse\u001b[39;00m:\n\u001b[0;32m     53\u001b[0m     data \u001b[38;5;241m=\u001b[39m \u001b[38;5;28mself\u001b[39m\u001b[38;5;241m.\u001b[39mdataset[possibly_batched_index]\n",
      "Cell \u001b[1;32mIn[4], line 50\u001b[0m, in \u001b[0;36mCustomVacancyDataset.__getitem__\u001b[1;34m(self, idx)\u001b[0m\n\u001b[0;32m     47\u001b[0m tokens \u001b[38;5;241m=\u001b[39m \u001b[38;5;28mself\u001b[39m\u001b[38;5;241m.\u001b[39mtokenizer(\u001b[38;5;28mself\u001b[39m\u001b[38;5;241m.\u001b[39mdata\u001b[38;5;241m.\u001b[39miloc[idx][\u001b[38;5;28mself\u001b[39m\u001b[38;5;241m.\u001b[39mtext], return_tensors\u001b[38;5;241m=\u001b[39m\u001b[38;5;124m\"\u001b[39m\u001b[38;5;124mpt\u001b[39m\u001b[38;5;124m\"\u001b[39m, add_special_tokens\u001b[38;5;241m=\u001b[39m\u001b[38;5;28;01mFalse\u001b[39;00m, return_token_type_ids\u001b[38;5;241m=\u001b[39m\u001b[38;5;28;01mFalse\u001b[39;00m)\n\u001b[0;32m     48\u001b[0m tokens \u001b[38;5;241m=\u001b[39m \u001b[38;5;28mself\u001b[39m\u001b[38;5;241m.\u001b[39mchunker(tokens, \u001b[38;5;28mself\u001b[39m\u001b[38;5;241m.\u001b[39mchunk_size)\n\u001b[1;32m---> 50\u001b[0m tokens[\u001b[38;5;124m\"\u001b[39m\u001b[38;5;124minput_ids\u001b[39m\u001b[38;5;124m\"\u001b[39m] \u001b[38;5;241m=\u001b[39m \u001b[43mtokens\u001b[49m\u001b[43m[\u001b[49m\u001b[38;5;124;43m\"\u001b[39;49m\u001b[38;5;124;43minput_ids\u001b[39;49m\u001b[38;5;124;43m\"\u001b[39;49m\u001b[43m]\u001b[49m\u001b[38;5;241;43m.\u001b[39;49m\u001b[43mto\u001b[49m\u001b[43m(\u001b[49m\u001b[43mdevice\u001b[49m\u001b[43m)\u001b[49m\u001b[38;5;241m.\u001b[39mlong()\n\u001b[0;32m     51\u001b[0m tokens[\u001b[38;5;124m\"\u001b[39m\u001b[38;5;124mattention_mask\u001b[39m\u001b[38;5;124m\"\u001b[39m] \u001b[38;5;241m=\u001b[39m tokens[\u001b[38;5;124m\"\u001b[39m\u001b[38;5;124mattention_mask\u001b[39m\u001b[38;5;124m\"\u001b[39m]\u001b[38;5;241m.\u001b[39mto(device)\u001b[38;5;241m.\u001b[39mint()\n\u001b[0;32m     53\u001b[0m \u001b[38;5;28;01mif\u001b[39;00m \u001b[38;5;28mself\u001b[39m\u001b[38;5;241m.\u001b[39mmode \u001b[38;5;241m==\u001b[39m \u001b[38;5;124m\"\u001b[39m\u001b[38;5;124mtest\u001b[39m\u001b[38;5;124m\"\u001b[39m:\n",
      "\u001b[1;31mKeyboardInterrupt\u001b[0m: "
     ]
    }
   ],
   "source": [
    "for batch in train_loader:\n",
    "    token_list, target = batch\n",
    "    for tokens in token_list:\n",
    "        if tokens[\"input_ids\"].shape[0] != 1:\n",
    "            print(tokens[\"input_ids\"][0][0])\n",
    "            print(tokens[\"input_ids\"][1][tokens[\"input_ids\"][1] != 0])\n",
    "    # break"
   ]
  },
  {
   "cell_type": "markdown",
   "id": "cc14e14a-caa2-42c3-b74d-4b783c61fbb3",
   "metadata": {},
   "source": [
    "# Start train"
   ]
  },
  {
   "cell_type": "code",
   "execution_count": 22,
   "id": "b3aaa7f0-e06b-44e4-a2f8-8ceddb10fd2b",
   "metadata": {},
   "outputs": [],
   "source": [
    "bert_model = AutoModel.from_pretrained(model_name)\n",
    "model = BertClassification(bert_model).to(device)"
   ]
  },
  {
   "cell_type": "code",
   "execution_count": 23,
   "id": "04157dfd-1e24-4070-a676-0d3f67c07f13",
   "metadata": {},
   "outputs": [],
   "source": [
    "loss = nn.CrossEntropyLoss()\n",
    "optimizer = torch.optim.AdamW(model.parameters(), lr= 2e-5)\n",
    "scheduler = torch.optim.lr_scheduler.ExponentialLR(optimizer, gamma=0.9)"
   ]
  },
  {
   "cell_type": "code",
   "execution_count": 31,
   "id": "9475ebb9-9128-461c-ab65-85ad29ecf2af",
   "metadata": {},
   "outputs": [
    {
     "data": {
      "application/vnd.jupyter.widget-view+json": {
       "model_id": "81fbcfae2cbc42298be1e79b4b385da0",
       "version_major": 2,
       "version_minor": 0
      },
      "text/plain": [
       "  0%|          | 0/1 [00:00<?, ?it/s]"
      ]
     },
     "metadata": {},
     "output_type": "display_data"
    },
    {
     "data": {
      "application/vnd.jupyter.widget-view+json": {
       "model_id": "",
       "version_major": 2,
       "version_minor": 0
      },
      "text/plain": [
       "Train:   0%|          | 0/2331 [00:00<?, ?it/s]"
      ]
     },
     "metadata": {},
     "output_type": "display_data"
    },
    {
     "name": "stderr",
     "output_type": "stream",
     "text": [
      "Token indices sequence length is longer than the specified maximum sequence length for this model (2129 > 2048). Running this sequence through the model will result in indexing errors\n"
     ]
    },
    {
     "data": {
      "application/vnd.jupyter.widget-view+json": {
       "model_id": "",
       "version_major": 2,
       "version_minor": 0
      },
      "text/plain": [
       "Eval:   0%|          | 0/467 [00:00<?, ?it/s]"
      ]
     },
     "metadata": {},
     "output_type": "display_data"
    },
    {
     "name": "stdout",
     "output_type": "stream",
     "text": [
      "Macro f1: 0.204 | Macro precision: 0.214 | Macro recall: 0.200 | Micro precision: 0.849 -- train\n",
      "Macro f1: 0.220 | Macro precision: 0.241 | Macro recall: 0.216 | Micro precision: 0.872 -- eval\n",
      "Epoch: 1 Train loss: 0.421 Valid loss: 0.333 \n",
      "\n",
      "0.2255302638219592 0.8723140357346385\n"
     ]
    }
   ],
   "source": [
    "fit(model, loss, optimizer, scheduler, train_loader, valid_loader, device, 1)"
   ]
  },
  {
   "cell_type": "code",
   "execution_count": 32,
   "id": "92a2eec3-3220-432f-ae9f-69b46f465d12",
   "metadata": {
    "scrolled": true
   },
   "outputs": [
    {
     "data": {
      "application/vnd.jupyter.widget-view+json": {
       "model_id": "",
       "version_major": 2,
       "version_minor": 0
      },
      "text/plain": [
       "Eval:   0%|          | 0/117 [00:00<?, ?it/s]"
      ]
     },
     "metadata": {},
     "output_type": "display_data"
    },
    {
     "data": {
      "text/plain": [
       "(0.21921668758900337,\n",
       " 0.2255554105281477,\n",
       " 0.21537916912758062,\n",
       " 0.8745642263341379)"
      ]
     },
     "execution_count": 32,
     "metadata": {},
     "output_type": "execute_result"
    }
   ],
   "source": [
    "eval_loss, y_eval_pred, y_eval_true = eval_fn(model, loss, test_loader)\n",
    "eval_metrics = get_score(y_eval_true, y_eval_pred)\n",
    "eval_metrics"
   ]
  },
  {
   "cell_type": "code",
   "execution_count": 37,
   "id": "934e6e13-290b-4189-a7c0-447b6524b504",
   "metadata": {},
   "outputs": [],
   "source": [
    "n_epoch = 5\n",
    "info_metrics = \"Macro f1: %.3f | Macro precision: %.3f | Macro recall: %.3f | Micro precision: %.3f\""
   ]
  },
  {
   "cell_type": "code",
   "execution_count": 38,
   "id": "cda6c4af-5f8d-4088-b783-0bd7c96ba0e8",
   "metadata": {},
   "outputs": [],
   "source": [
    "train, test = train_test_split(df, shuffle=True, train_size=0.85, stratify=df[target_columns], random_state=random_state)\n",
    "\n",
    "test_dataset = CustomVacancyDataset(test, tokenizer, device, text_columns, target_columns, chunk_size, mode=\"valid\")\n",
    "test_loader = DataLoader(test_dataset, batch_size=batch_size, shuffle=False, collate_fn=collate_fn)"
   ]
  },
  {
   "cell_type": "code",
   "execution_count": null,
   "id": "e3648d56-f90a-443e-b5cf-6d2d04447d53",
   "metadata": {},
   "outputs": [
    {
     "data": {
      "application/vnd.jupyter.widget-view+json": {
       "model_id": "63ec5ebd395c4f27af47876477d0f3a2",
       "version_major": 2,
       "version_minor": 0
      },
      "text/plain": [
       "  0%|          | 0/5 [00:00<?, ?it/s]"
      ]
     },
     "metadata": {},
     "output_type": "display_data"
    },
    {
     "data": {
      "application/vnd.jupyter.widget-view+json": {
       "model_id": "d48c9236fd1344dd99af408241d98c50",
       "version_major": 2,
       "version_minor": 0
      },
      "text/plain": [
       "Train:   0%|          | 0/1981 [00:00<?, ?it/s]"
      ]
     },
     "metadata": {},
     "output_type": "display_data"
    }
   ],
   "source": [
    "best_test_macro = 0.0\n",
    "best_test_micro_precision_score = 0.0\n",
    "skf = StratifiedKFold(n_splits=5, shuffle=True, random_state=random_state)\n",
    "\n",
    "for train_index, val_index in skf.split(train[text_columns], train[target_columns]):\n",
    "    bert_model = AutoModel.from_pretrained(model_name)\n",
    "    model = BertClassification(bert_model).to(device)\n",
    "\n",
    "    loss = nn.CrossEntropyLoss()\n",
    "    optimizer = torch.optim.AdamW(model.parameters(), lr= 2e-5)\n",
    "    scheduler = torch.optim.lr_scheduler.ExponentialLR(optimizer, gamma=0.9)\n",
    "\n",
    "    train_dataset = CustomVacancyDataset(train.iloc[train_index], tokenizer, device, text_columns, target_columns, chunk_size, mode=\"train\")\n",
    "    valid_dataset = CustomVacancyDataset(train.iloc[val_index], tokenizer, device, text_columns, target_columns, chunk_size, mode=\"valid\")\n",
    "\n",
    "    train_loader = DataLoader(train_dataset, batch_size=batch_size, shuffle=True, collate_fn=collate_fn, num_workers=4)\n",
    "    valid_loader = DataLoader(valid_dataset, batch_size=batch_size, shuffle=False, collate_fn=collate_fn, num_workers=4)\n",
    "    \n",
    "    fit(model, loss, optimizer, scheduler, train_loader, valid_loader, device, n_epoch)\n",
    "    \n",
    "    eval_loss, y_eval_pred, y_eval_true = eval_fn(model, loss, test_loader)\n",
    "    eval_metrics = get_score(y_eval_true, y_eval_pred)\n",
    "    print(info_metrics % eval_metrics, \"-- test\")\n",
    "\n",
    "    if best_test_macro < sum(eval_metrics[:3]) / 3:\n",
    "            best_macro = sum(eval_metrics[:3]) / 3\n",
    "            torch.save(model.state_dict(), f\"./models/model_best_test_macro_{best_macro:.4f}.pt\")\n",
    "\n",
    "    if best_test_micro_precision_score < eval_metrics[-1]:\n",
    "        best_micro_precision_score = eval_metrics[-1]\n",
    "        torch.save(model.state_dict(), f\"./models/model_best_test_micro_{best_micro_precision_score:.4f}.pt\")"
   ]
  },
  {
   "cell_type": "code",
   "execution_count": null,
   "id": "ee7d6a90-c0d4-41cb-ae7c-bf2d449a841b",
   "metadata": {},
   "outputs": [],
   "source": [
    "\"s\""
   ]
  },
  {
   "cell_type": "code",
   "execution_count": null,
   "id": "f83a4fab-fe84-4245-8f84-395b512163fe",
   "metadata": {},
   "outputs": [],
   "source": []
  }
 ],
 "metadata": {
  "kernelspec": {
   "display_name": "Python 3 (ipykernel)",
   "language": "python",
   "name": "python3"
  },
  "language_info": {
   "codemirror_mode": {
    "name": "ipython",
    "version": 3
   },
   "file_extension": ".py",
   "mimetype": "text/x-python",
   "name": "python",
   "nbconvert_exporter": "python",
   "pygments_lexer": "ipython3",
   "version": "3.10.9"
  }
 },
 "nbformat": 4,
 "nbformat_minor": 5
}
