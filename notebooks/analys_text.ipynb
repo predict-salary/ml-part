{
 "cells": [
  {
   "cell_type": "code",
   "execution_count": 1,
   "id": "eedff7e8-3a49-4b0e-9422-07f007a4e171",
   "metadata": {},
   "outputs": [
    {
     "name": "stderr",
     "output_type": "stream",
     "text": [
      "[nltk_data] Downloading package stopwords to\n",
      "[nltk_data]     C:\\Users\\Amir\\AppData\\Roaming\\nltk_data...\n",
      "[nltk_data]   Package stopwords is already up-to-date!\n"
     ]
    },
    {
     "data": {
      "text/plain": [
       "True"
      ]
     },
     "execution_count": 1,
     "metadata": {},
     "output_type": "execute_result"
    }
   ],
   "source": [
    "import re\n",
    "import pickle\n",
    "from collections import Counter\n",
    "from string import punctuation\n",
    "\n",
    "import pandas as pd\n",
    "from tqdm.notebook import tqdm\n",
    "\n",
    "import nltk\n",
    "from nltk.tokenize import word_tokenize\n",
    "from nltk.corpus import stopwords\n",
    "from nltk.util import ngrams\n",
    "nltk.download(\"stopwords\")"
   ]
  },
  {
   "cell_type": "code",
   "execution_count": 2,
   "id": "48bedb06-b22a-4993-a2df-f8071ed38e29",
   "metadata": {},
   "outputs": [],
   "source": [
    "df = pd.read_csv(\"data_with_text.csv\")"
   ]
  },
  {
   "cell_type": "code",
   "execution_count": 3,
   "id": "6aa465cb-8c6d-4f23-8147-a4fe073a2498",
   "metadata": {},
   "outputs": [],
   "source": [
    "russian_stopwords = set(stopwords.words(\"russian\"))"
   ]
  },
  {
   "cell_type": "code",
   "execution_count": 4,
   "id": "92d4adad-af7e-4fb0-9776-f3c76d3f1a50",
   "metadata": {},
   "outputs": [],
   "source": [
    "drop_list = [\"»\", \"—\", \"«\", \"``\", \"''\", \"•\", \"–\"]"
   ]
  },
  {
   "cell_type": "code",
   "execution_count": 5,
   "id": "ae444ee3-470f-485d-b0de-d7c867fa6edf",
   "metadata": {},
   "outputs": [],
   "source": [
    "def preprocessing_text(x):\n",
    "    text = x.lower()\n",
    "    text = re.sub(r'[^0-9A-Za-zА-Яа-я \\.]', '', text)\n",
    "    tokens = word_tokenize(text)\n",
    "    tokens = [token for token in tokens if token not in russian_stopwords and token not in punctuation and token not in drop_list]\n",
    "    return tokens"
   ]
  },
  {
   "cell_type": "code",
   "execution_count": 6,
   "id": "dd744786-2f23-4180-bf26-12226bcfdd67",
   "metadata": {},
   "outputs": [
    {
     "data": {
      "application/vnd.jupyter.widget-view+json": {
       "model_id": "234e77af186d432491bc78f0c938b44a",
       "version_major": 2,
       "version_minor": 0
      },
      "text/plain": [
       "  0%|          | 0/372890 [00:00<?, ?it/s]"
      ]
     },
     "metadata": {},
     "output_type": "display_data"
    }
   ],
   "source": [
    "preprocessed_text = [] \n",
    "dirty_text = df[\"vacancy_description\"].values\n",
    "\n",
    "for text in tqdm(dirty_text):\n",
    "    preprocessed_text.extend(preprocessing_text(text))"
   ]
  },
  {
   "cell_type": "code",
   "execution_count": 7,
   "id": "ab03a59f-8757-4a42-9ef8-be8b85d14778",
   "metadata": {},
   "outputs": [
    {
     "data": {
      "application/vnd.jupyter.widget-view+json": {
       "model_id": "1d7dd3689c384d0cb3c04f6e73b1869e",
       "version_major": 2,
       "version_minor": 0
      },
      "text/plain": [
       "  0%|          | 0/51172227 [00:00<?, ?it/s]"
      ]
     },
     "metadata": {},
     "output_type": "display_data"
    },
    {
     "ename": "NameError",
     "evalue": "name 'n_gram_size' is not defined",
     "output_type": "error",
     "traceback": [
      "\u001b[1;31m---------------------------------------------------------------------------\u001b[0m",
      "\u001b[1;31mNameError\u001b[0m                                 Traceback (most recent call last)",
      "Cell \u001b[1;32mIn[7], line 5\u001b[0m\n\u001b[0;32m      2\u001b[0m results_ngram \u001b[38;5;241m=\u001b[39m []\n\u001b[0;32m      4\u001b[0m \u001b[38;5;28;01mfor\u001b[39;00m text \u001b[38;5;129;01min\u001b[39;00m tqdm(preprocessed_text):\n\u001b[1;32m----> 5\u001b[0m     results_ngram\u001b[38;5;241m.\u001b[39mextend(\u001b[38;5;28mlist\u001b[39m(ngrams(text, \u001b[43mn_gram_size\u001b[49m)))\n",
      "\u001b[1;31mNameError\u001b[0m: name 'n_gram_size' is not defined"
     ]
    }
   ],
   "source": [
    "n_gram_size = 2\n",
    "results_ngram = []\n",
    "\n",
    "for text in tqdm(preprocessed_text):\n",
    "    results_ngram.extend(list(ngrams(text, n_gram_size)))"
   ]
  },
  {
   "cell_type": "code",
   "execution_count": 32,
   "id": "b03f0431-17f8-407e-9f76-ea51e2ed2fce",
   "metadata": {},
   "outputs": [],
   "source": [
    "vocab = Counter(results_ngram)"
   ]
  },
  {
   "cell_type": "code",
   "execution_count": 37,
   "id": "af1fc6fe-74b4-4891-9e5c-04adc414cd83",
   "metadata": {},
   "outputs": [],
   "source": [
    "vocab = {k: v for k, v in sorted(vocab.items(), key=lambda item: item[1])}"
   ]
  },
  {
   "cell_type": "code",
   "execution_count": 41,
   "id": "dbd79bcb-29b4-4e95-af94-4d2f94976137",
   "metadata": {},
   "outputs": [
    {
     "data": {
      "application/vnd.jupyter.widget-view+json": {
       "model_id": "96c6af20d2fa4e71841fd8a7184c864d",
       "version_major": 2,
       "version_minor": 0
      },
      "text/plain": [
       "  0%|          | 0/7033569 [00:00<?, ?it/s]"
      ]
     },
     "metadata": {},
     "output_type": "display_data"
    }
   ],
   "source": [
    "selections = []\n",
    "threshold = 1\n",
    "\n",
    "for k, v in tqdm(vocab.items()):\n",
    "    if v <= threshold:\n",
    "        selections.append(k)"
   ]
  },
  {
   "cell_type": "code",
   "execution_count": 46,
   "id": "2eb8391a-ac18-4e42-9fff-6251c32ff66f",
   "metadata": {},
   "outputs": [
    {
     "data": {
      "text/plain": [
       "[('условиях.звоните', 'указанному'),\n",
       " ('указанному', 'номеру.⬇️конфиденциальность'),\n",
       " ('номеру.⬇️конфиденциальность', 'этапах'),\n",
       " ('этапах', 'гарантируем.присоединяйся'),\n",
       " ('гарантируем.присоединяйся', 'команде')]"
      ]
     },
     "execution_count": 46,
     "metadata": {},
     "output_type": "execute_result"
    }
   ],
   "source": [
    "selections[-5:]"
   ]
  },
  {
   "cell_type": "code",
   "execution_count": 49,
   "id": "1d701863-1113-4409-8044-a1ab8e766e59",
   "metadata": {},
   "outputs": [
    {
     "data": {
      "text/plain": [
       "'номеру.конфиденциальность'"
      ]
     },
     "execution_count": 49,
     "metadata": {},
     "output_type": "execute_result"
    }
   ],
   "source": []
  },
  {
   "cell_type": "code",
   "execution_count": null,
   "id": "8c437af7-678f-435b-8385-77df796c8228",
   "metadata": {},
   "outputs": [],
   "source": []
  }
 ],
 "metadata": {
  "kernelspec": {
   "display_name": "Python 3 (ipykernel)",
   "language": "python",
   "name": "python3"
  },
  "language_info": {
   "codemirror_mode": {
    "name": "ipython",
    "version": 3
   },
   "file_extension": ".py",
   "mimetype": "text/x-python",
   "name": "python",
   "nbconvert_exporter": "python",
   "pygments_lexer": "ipython3",
   "version": "3.10.9"
  }
 },
 "nbformat": 4,
 "nbformat_minor": 5
}
